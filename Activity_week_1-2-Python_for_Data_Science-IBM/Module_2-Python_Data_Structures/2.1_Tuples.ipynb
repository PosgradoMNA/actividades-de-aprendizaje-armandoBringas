{
 "cells": [
  {
   "cell_type": "markdown",
   "id": "907d0b7f",
   "metadata": {},
   "source": [
    "Armando Bringas Corpus (A01200230)\n",
    "TC4029 Ciencia y analítica de datos (Gpo 10)"
   ]
  },
  {
   "cell_type": "markdown",
   "id": "2b01d0f0",
   "metadata": {},
   "source": [
    "# Tuples"
   ]
  },
  {
   "cell_type": "code",
   "execution_count": null,
   "id": "38f9f138",
   "metadata": {},
   "outputs": [],
   "source": [
    "tuple_1 = (\"Pink Floyd\", 40, 2.2)\n",
    "tuple_1"
   ]
  },
  {
   "cell_type": "code",
   "execution_count": null,
   "id": "6e1f8d47",
   "metadata": {},
   "outputs": [],
   "source": [
    "type(tuple_1)"
   ]
  },
  {
   "cell_type": "markdown",
   "id": "113aa566",
   "metadata": {},
   "source": [
    "## Indexing"
   ]
  },
  {
   "cell_type": "code",
   "execution_count": null,
   "id": "b8c9b9d2",
   "metadata": {},
   "outputs": [],
   "source": [
    "print(tuple_1[0])\n",
    "print(tuple_1[1])\n",
    "print(tuple_1[2])"
   ]
  },
  {
   "cell_type": "code",
   "execution_count": null,
   "id": "e9cc7058",
   "metadata": {},
   "outputs": [],
   "source": [
    "print(type(tuple_1[0]))\n",
    "print(type(tuple_1[1]))\n",
    "print(type(tuple_1[2]))"
   ]
  },
  {
   "cell_type": "code",
   "execution_count": null,
   "id": "33667596",
   "metadata": {},
   "outputs": [],
   "source": [
    "# Negative Indexing, get the value of the last element\n",
    "\n",
    "tuple_1[-1]"
   ]
  },
  {
   "cell_type": "markdown",
   "id": "f8a8894e",
   "metadata": {},
   "source": [
    "## Concatenate Tuples"
   ]
  },
  {
   "cell_type": "code",
   "execution_count": null,
   "id": "53e5b376",
   "metadata": {},
   "outputs": [],
   "source": [
    "tuple_2 = tuple_1 + ('Progressive Rock', 10)\n",
    "tuple_2"
   ]
  },
  {
   "cell_type": "markdown",
   "id": "af503623",
   "metadata": {},
   "source": [
    "## Slicing"
   ]
  },
  {
   "cell_type": "code",
   "execution_count": null,
   "id": "dff52b4f",
   "metadata": {},
   "outputs": [],
   "source": [
    "tuple_2[0:3]"
   ]
  },
  {
   "cell_type": "code",
   "execution_count": null,
   "id": "abc0903a",
   "metadata": {},
   "outputs": [],
   "source": [
    "# Getting the last tu element\n",
    "\n",
    "tuple_2[3:5]"
   ]
  },
  {
   "cell_type": "code",
   "execution_count": null,
   "id": "6e6cdf14",
   "metadata": {},
   "outputs": [],
   "source": [
    "# Lenght of the tuple\n",
    "\n",
    "len(tuple_2)"
   ]
  },
  {
   "cell_type": "markdown",
   "id": "d2fe8181",
   "metadata": {},
   "source": [
    "## Sorting"
   ]
  },
  {
   "cell_type": "code",
   "execution_count": null,
   "id": "c2572f56",
   "metadata": {},
   "outputs": [],
   "source": [
    "results = (8, 5, 22, 57, 1, 3, 7, 48, 22, 44)"
   ]
  },
  {
   "cell_type": "code",
   "execution_count": null,
   "id": "3ae903fb",
   "metadata": {},
   "outputs": [],
   "source": [
    "# Sorting the tuple\n",
    "\n",
    "results_sorted = sorted(results)\n",
    "results_sorted"
   ]
  },
  {
   "cell_type": "markdown",
   "id": "a2e61c80",
   "metadata": {},
   "source": [
    "## Nested Tuple"
   ]
  },
  {
   "cell_type": "code",
   "execution_count": null,
   "id": "1ba746f3",
   "metadata": {},
   "outputs": [],
   "source": [
    "# Create a nest tuple\n",
    "\n",
    "nested_tuple = (1, 2, ('Metal', 'Jazz'), (3, 4), ('Blues', (1, 2)))"
   ]
  },
  {
   "cell_type": "code",
   "execution_count": null,
   "id": "195ca1f7",
   "metadata": {},
   "outputs": [],
   "source": [
    "# Print the element of each index\n",
    "\n",
    "print(\"Element 0 of Tuple: \", nested_tuple[0])\n",
    "print(\"Element 1 of Tuple: \", nested_tuple[1])\n",
    "print(\"Element 2 of Tuple: \", nested_tuple[2])\n",
    "print(\"Element 3 of Tuple: \", nested_tuple[3])\n",
    "print(\"Element 4 of Tuple: \", nested_tuple[4])"
   ]
  },
  {
   "cell_type": "code",
   "execution_count": null,
   "id": "7ecb61fb",
   "metadata": {},
   "outputs": [],
   "source": [
    "# Print element on each index, including nest indexes\n",
    "\n",
    "print(\"Element 2, 0 of Tuple: \",   nested_tuple[2][0])\n",
    "print(\"Element 2, 1 of Tuple: \",   nested_tuple[2][1])\n",
    "print(\"Element 3, 0 of Tuple: \",   nested_tuple[3][0])\n",
    "print(\"Element 3, 1 of Tuple: \",   nested_tuple[3][1])\n",
    "print(\"Element 4, 0 of Tuple: \",   nested_tuple[4][0])\n",
    "print(\"Element 4, 1 of Tuple: \",   nested_tuple[4][1])"
   ]
  },
  {
   "cell_type": "code",
   "execution_count": null,
   "id": "0567d2af",
   "metadata": {},
   "outputs": [],
   "source": [
    "# Print the first element in the second nested tuples\n",
    "\n",
    "nested_tuple[2][1][0]"
   ]
  },
  {
   "cell_type": "code",
   "execution_count": null,
   "id": "c9579169",
   "metadata": {},
   "outputs": [],
   "source": [
    "# Finding index\n",
    "nested_tuple.index(('Metal', 'Jazz'))"
   ]
  }
 ],
 "metadata": {
  "kernelspec": {
   "display_name": "Python 3 (ipykernel)",
   "language": "python",
   "name": "python3"
  },
  "language_info": {
   "codemirror_mode": {
    "name": "ipython",
    "version": 3
   },
   "file_extension": ".py",
   "mimetype": "text/x-python",
   "name": "python",
   "nbconvert_exporter": "python",
   "pygments_lexer": "ipython3",
   "version": "3.10.4"
  }
 },
 "nbformat": 4,
 "nbformat_minor": 5
}
