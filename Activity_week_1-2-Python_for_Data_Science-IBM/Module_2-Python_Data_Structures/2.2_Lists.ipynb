{
 "cells": [
  {
   "cell_type": "markdown",
   "id": "907d0b7f",
   "metadata": {},
   "source": [
    "Armando Bringas Corpus (A01200230)\n",
    "TC4029 Ciencia y analítica de datos (Gpo 10)"
   ]
  },
  {
   "cell_type": "markdown",
   "id": "2b01d0f0",
   "metadata": {},
   "source": [
    "# Lists"
   ]
  },
  {
   "cell_type": "code",
   "execution_count": 1,
   "id": "38f9f138",
   "metadata": {
    "scrolled": true
   },
   "outputs": [
    {
     "data": {
      "text/plain": [
       "['Elvis Presley', 3.1416, 1968]"
      ]
     },
     "execution_count": 1,
     "metadata": {},
     "output_type": "execute_result"
    }
   ],
   "source": [
    "L = [\"Elvis Presley\", 3.1416, 1968]\n",
    "L"
   ]
  },
  {
   "cell_type": "code",
   "execution_count": 2,
   "id": "d36c3710",
   "metadata": {},
   "outputs": [
    {
     "name": "stdout",
     "output_type": "stream",
     "text": [
      "the same element using negative and positive indexing:\n",
      " Postive: Elvis Presley \n",
      " Negative: Elvis Presley\n",
      "the same element using negative and positive indexing:\n",
      " Postive: 3.1416 \n",
      " Negative: 3.1416\n",
      "the same element using negative and positive indexing:\n",
      " Postive: 1968 \n",
      " Negative: 1968\n"
     ]
    }
   ],
   "source": [
    "# Print the elements on each index\n",
    "\n",
    "print('the same element using negative and positive indexing:\\n Postive:',L[0],\n",
    "'\\n Negative:' , L[-3]  )\n",
    "print('the same element using negative and positive indexing:\\n Postive:',L[1],\n",
    "'\\n Negative:' , L[-2]  )\n",
    "print('the same element using negative and positive indexing:\\n Postive:',L[2],\n",
    "'\\n Negative:' , L[-1]  )"
   ]
  },
  {
   "cell_type": "markdown",
   "id": "73e25ec1",
   "metadata": {},
   "source": [
    "## List Content"
   ]
  },
  {
   "cell_type": "code",
   "execution_count": 3,
   "id": "24212746",
   "metadata": {},
   "outputs": [
    {
     "data": {
      "text/plain": [
       "['Elvis Presley', 3.1416, 1968, 'EP', 1]"
      ]
     },
     "execution_count": 3,
     "metadata": {},
     "output_type": "execute_result"
    }
   ],
   "source": [
    "L = [\"Elvis Presley\", 3.1416, 1968, \"EP\", 1]\n",
    "L"
   ]
  },
  {
   "cell_type": "code",
   "execution_count": 4,
   "id": "c222138a",
   "metadata": {},
   "outputs": [
    {
     "data": {
      "text/plain": [
       "[1968, 'EP']"
      ]
     },
     "execution_count": 4,
     "metadata": {},
     "output_type": "execute_result"
    }
   ],
   "source": [
    "# Slicing a List\n",
    "L[2:4]"
   ]
  },
  {
   "cell_type": "code",
   "execution_count": 5,
   "id": "7589a467",
   "metadata": {},
   "outputs": [
    {
     "data": {
      "text/plain": [
       "['Elvis Presley', 1968, 'rock & roll', 10]"
      ]
     },
     "execution_count": 5,
     "metadata": {},
     "output_type": "execute_result"
    }
   ],
   "source": [
    "# Extend to add new elements to the list\n",
    "\n",
    "L = [\"Elvis Presley\", 1968]\n",
    "L.extend(['rock & roll', 10])\n",
    "L"
   ]
  },
  {
   "cell_type": "code",
   "execution_count": 6,
   "id": "1387656b",
   "metadata": {},
   "outputs": [
    {
     "data": {
      "text/plain": [
       "['Elvis Presley', 1968, ['rock & roll', 10]]"
      ]
     },
     "execution_count": 6,
     "metadata": {},
     "output_type": "execute_result"
    }
   ],
   "source": [
    "# Appen to add an elements to the list\n",
    "\n",
    "L = [\"Elvis Presley\", 1968]\n",
    "L.append(['rock & roll', 10])\n",
    "L"
   ]
  },
  {
   "cell_type": "code",
   "execution_count": 7,
   "id": "2398222c",
   "metadata": {},
   "outputs": [
    {
     "name": "stdout",
     "output_type": "stream",
     "text": [
      "Before change: ['metal', 10, 3.1416]\n",
      "After change: ['K-Pop', 10, 3.1416]\n"
     ]
    }
   ],
   "source": [
    "# Change and element based on index\n",
    "\n",
    "A = ['metal', 10, 3.1416]\n",
    "print('Before change:', A)\n",
    "A[0] = 'K-Pop'\n",
    "print('After change:', A)"
   ]
  },
  {
   "cell_type": "code",
   "execution_count": 8,
   "id": "32f9ff5e",
   "metadata": {},
   "outputs": [
    {
     "name": "stdout",
     "output_type": "stream",
     "text": [
      "Before change: ['K-Pop', 10, 3.1416]\n",
      "After change: [10, 3.1416]\n"
     ]
    }
   ],
   "source": [
    "# Delete an element based on its index\n",
    "\n",
    "print('Before change:', A)\n",
    "del(A[0])\n",
    "print('After change:', A)"
   ]
  },
  {
   "cell_type": "code",
   "execution_count": 9,
   "id": "d5526472",
   "metadata": {},
   "outputs": [
    {
     "data": {
      "text/plain": [
       "['Rock', 'and', 'Roll']"
      ]
     },
     "execution_count": 9,
     "metadata": {},
     "output_type": "execute_result"
    }
   ],
   "source": [
    "# Split a string by space\n",
    "'Rock and Roll'.split()"
   ]
  },
  {
   "cell_type": "code",
   "execution_count": 10,
   "id": "d56973c4",
   "metadata": {},
   "outputs": [
    {
     "data": {
      "text/plain": [
       "['1', ' 2', ' 3', ' 4', ' 5']"
      ]
     },
     "execution_count": 10,
     "metadata": {},
     "output_type": "execute_result"
    }
   ],
   "source": [
    "# Split by a comma\n",
    "'1, 2, 3, 4, 5'.split(',')"
   ]
  },
  {
   "cell_type": "markdown",
   "id": "2488b005",
   "metadata": {},
   "source": [
    "## Copy and Clone List"
   ]
  },
  {
   "cell_type": "code",
   "execution_count": 11,
   "id": "16b1a510",
   "metadata": {},
   "outputs": [
    {
     "name": "stdout",
     "output_type": "stream",
     "text": [
      "A: ['metal', 10, 3.1416]\n",
      "B: ['metal', 10, 3.1416]\n"
     ]
    }
   ],
   "source": [
    "A = ['metal', 10, 3.1416]\n",
    "B = A\n",
    "print('A:', A)\n",
    "print('B:', B)"
   ]
  },
  {
   "cell_type": "code",
   "execution_count": 12,
   "id": "19decd7b",
   "metadata": {},
   "outputs": [
    {
     "data": {
      "text/plain": [
       "['tropical', 10, 3.1416]"
      ]
     },
     "execution_count": 12,
     "metadata": {},
     "output_type": "execute_result"
    }
   ],
   "source": [
    "# Copy by reference, changing value of index 0 of first list\n",
    "A[0] = 'tropical'\n",
    "B"
   ]
  },
  {
   "cell_type": "code",
   "execution_count": 13,
   "id": "f5dd40d2",
   "metadata": {},
   "outputs": [
    {
     "data": {
      "text/plain": [
       "['tropical', 10, 3.1416]"
      ]
     },
     "execution_count": 13,
     "metadata": {},
     "output_type": "execute_result"
    }
   ],
   "source": [
    "# Clone (clone by value) the list A\n",
    "B = A[:]\n",
    "B"
   ]
  },
  {
   "cell_type": "code",
   "execution_count": 14,
   "id": "76b8276d",
   "metadata": {
    "scrolled": false
   },
   "outputs": [
    {
     "data": {
      "text/plain": [
       "['tropical', 10, 3.1416]"
      ]
     },
     "execution_count": 14,
     "metadata": {},
     "output_type": "execute_result"
    }
   ],
   "source": [
    "# Verify that changing list A, list B is not changing\n",
    "A[0] = 'metal'\n",
    "B"
   ]
  },
  {
   "cell_type": "code",
   "execution_count": 15,
   "id": "3ede622a",
   "metadata": {},
   "outputs": [
    {
     "data": {
      "text/plain": [
       "['metal', 10, 3.1416, 'tropical', 10, 3.1416]"
      ]
     },
     "execution_count": 15,
     "metadata": {},
     "output_type": "execute_result"
    }
   ],
   "source": [
    "# Concatenate lists\n",
    "A + B"
   ]
  }
 ],
 "metadata": {
  "kernelspec": {
   "display_name": "Python 3 (ipykernel)",
   "language": "python",
   "name": "python3"
  },
  "language_info": {
   "codemirror_mode": {
    "name": "ipython",
    "version": 3
   },
   "file_extension": ".py",
   "mimetype": "text/x-python",
   "name": "python",
   "nbconvert_exporter": "python",
   "pygments_lexer": "ipython3",
   "version": "3.10.4"
  }
 },
 "nbformat": 4,
 "nbformat_minor": 5
}
