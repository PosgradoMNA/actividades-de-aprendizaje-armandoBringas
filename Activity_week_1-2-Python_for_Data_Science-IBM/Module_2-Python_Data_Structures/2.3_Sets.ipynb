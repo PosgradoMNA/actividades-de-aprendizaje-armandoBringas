{
 "cells": [
  {
   "cell_type": "markdown",
   "id": "907d0b7f",
   "metadata": {},
   "source": [
    "Armando Bringas Corpus (A01200230)\n",
    "TC4029 Ciencia y analítica de datos (Gpo 10)"
   ]
  },
  {
   "cell_type": "markdown",
   "id": "2b01d0f0",
   "metadata": {},
   "source": [
    "# Sets"
   ]
  },
  {
   "cell_type": "code",
   "execution_count": 1,
   "id": "b5159b84",
   "metadata": {},
   "outputs": [
    {
     "data": {
      "text/plain": [
       "{'blues',\n",
       " 'bossanova',\n",
       " 'classic',\n",
       " 'gospel',\n",
       " 'jazz',\n",
       " 'metal',\n",
       " 'pop',\n",
       " 'progressive'}"
      ]
     },
     "execution_count": 1,
     "metadata": {},
     "output_type": "execute_result"
    }
   ],
   "source": [
    "music_genres = {'metal', 'pop', 'progressive', 'classic', 'blues', 'jazz', 'gospel', 'bossanova'}\n",
    "music_genres"
   ]
  },
  {
   "cell_type": "code",
   "execution_count": 2,
   "id": "8cf5d21a",
   "metadata": {},
   "outputs": [
    {
     "data": {
      "text/plain": [
       "{'Atom Heart Mother', 'Dark Side of the Moon', 'Echoes', 'Ummagumma'}"
      ]
     },
     "execution_count": 2,
     "metadata": {},
     "output_type": "execute_result"
    }
   ],
   "source": [
    "# Convert a list to a set\n",
    "album_list = ['Dark Side of the Moon', 'Atom Heart Mother', 'Ummagumma', 'Echoes']\n",
    "album_set = set(album_list)\n",
    "album_set"
   ]
  },
  {
   "cell_type": "markdown",
   "id": "393ce975",
   "metadata": {},
   "source": [
    "## Set Operations"
   ]
  },
  {
   "cell_type": "code",
   "execution_count": 3,
   "id": "edc59482",
   "metadata": {},
   "outputs": [
    {
     "data": {
      "text/plain": [
       "{'Blackfield', 'Porcupine Tree', 'Steven Wilson'}"
      ]
     },
     "execution_count": 3,
     "metadata": {},
     "output_type": "execute_result"
    }
   ],
   "source": [
    "A = set([\"Steven Wilson\", \"Blackfield\", \"Porcupine Tree\"])\n",
    "A"
   ]
  },
  {
   "cell_type": "code",
   "execution_count": 4,
   "id": "c37f244a",
   "metadata": {},
   "outputs": [
    {
     "data": {
      "text/plain": [
       "{'Blackfield', 'No Man', 'Porcupine Tree', 'Steven Wilson'}"
      ]
     },
     "execution_count": 4,
     "metadata": {},
     "output_type": "execute_result"
    }
   ],
   "source": [
    "# Add element to the set\n",
    "A.add(\"No Man\")\n",
    "A"
   ]
  },
  {
   "cell_type": "code",
   "execution_count": 5,
   "id": "4dbc3a6b",
   "metadata": {},
   "outputs": [
    {
     "data": {
      "text/plain": [
       "{'Blackfield', 'Porcupine Tree', 'Steven Wilson'}"
      ]
     },
     "execution_count": 5,
     "metadata": {},
     "output_type": "execute_result"
    }
   ],
   "source": [
    "# Remove an item of the list\n",
    "A.remove(\"No Man\")\n",
    "A"
   ]
  },
  {
   "cell_type": "code",
   "execution_count": 6,
   "id": "7cc54922",
   "metadata": {},
   "outputs": [
    {
     "data": {
      "text/plain": [
       "True"
      ]
     },
     "execution_count": 6,
     "metadata": {},
     "output_type": "execute_result"
    }
   ],
   "source": [
    "# Verify if exist an element in the set\n",
    "\n",
    "\"Porcupine Tree\" in A"
   ]
  },
  {
   "cell_type": "markdown",
   "id": "2cc48d6f",
   "metadata": {},
   "source": [
    "## Sets Logic Operations"
   ]
  },
  {
   "cell_type": "code",
   "execution_count": 7,
   "id": "f91bcf46",
   "metadata": {},
   "outputs": [
    {
     "data": {
      "text/plain": [
       "({'Catch Without Arms', 'El Cielo', 'Leitmotif'},\n",
       " {'Catch Without Arms', 'El Cielo', 'The Pariah, the parrot, the delusion'})"
      ]
     },
     "execution_count": 7,
     "metadata": {},
     "output_type": "execute_result"
    }
   ],
   "source": [
    "album_set1 = {'El Cielo', 'Leitmotif', 'Catch Without Arms'}\n",
    "album_set2 = {'Catch Without Arms', 'The Pariah, the parrot, the delusion', 'El Cielo'}\n",
    "\n",
    "album_set1, album_set2"
   ]
  },
  {
   "cell_type": "code",
   "execution_count": 8,
   "id": "35aa098b",
   "metadata": {},
   "outputs": [
    {
     "data": {
      "text/plain": [
       "{'Catch Without Arms', 'El Cielo'}"
      ]
     },
     "execution_count": 8,
     "metadata": {},
     "output_type": "execute_result"
    }
   ],
   "source": [
    "# Find the intersection\n",
    "intersection = album_set1 & album_set2\n",
    "intersection"
   ]
  },
  {
   "cell_type": "code",
   "execution_count": 9,
   "id": "6a3cfb58",
   "metadata": {},
   "outputs": [
    {
     "data": {
      "text/plain": [
       "{'Leitmotif'}"
      ]
     },
     "execution_count": 9,
     "metadata": {},
     "output_type": "execute_result"
    }
   ],
   "source": [
    "# Elements only contained in set1\n",
    "album_set1.difference(album_set2)"
   ]
  },
  {
   "cell_type": "code",
   "execution_count": 10,
   "id": "4835058e",
   "metadata": {},
   "outputs": [
    {
     "data": {
      "text/plain": [
       "{'The Pariah, the parrot, the delusion'}"
      ]
     },
     "execution_count": 10,
     "metadata": {},
     "output_type": "execute_result"
    }
   ],
   "source": [
    "# Elements only contained in set2\n",
    "album_set2.difference(album_set1)"
   ]
  },
  {
   "cell_type": "code",
   "execution_count": 11,
   "id": "015c9af8",
   "metadata": {},
   "outputs": [
    {
     "data": {
      "text/plain": [
       "{'Catch Without Arms', 'El Cielo'}"
      ]
     },
     "execution_count": 11,
     "metadata": {},
     "output_type": "execute_result"
    }
   ],
   "source": [
    "# Intersetion of set1 in set2\n",
    "album_set1.intersection(album_set2)"
   ]
  },
  {
   "cell_type": "code",
   "execution_count": 12,
   "id": "7bc2d0b7",
   "metadata": {},
   "outputs": [
    {
     "data": {
      "text/plain": [
       "{'Catch Without Arms',\n",
       " 'El Cielo',\n",
       " 'Leitmotif',\n",
       " 'The Pariah, the parrot, the delusion'}"
      ]
     },
     "execution_count": 12,
     "metadata": {},
     "output_type": "execute_result"
    }
   ],
   "source": [
    "# Union of set1 and set2\n",
    "album_set1.union(album_set2)"
   ]
  },
  {
   "cell_type": "code",
   "execution_count": 13,
   "id": "c0c843ad",
   "metadata": {},
   "outputs": [
    {
     "data": {
      "text/plain": [
       "False"
      ]
     },
     "execution_count": 13,
     "metadata": {},
     "output_type": "execute_result"
    }
   ],
   "source": [
    "# Check superset\n",
    "set(album_set1).issubset(album_set2)"
   ]
  },
  {
   "cell_type": "code",
   "execution_count": 14,
   "id": "c205ed59",
   "metadata": {},
   "outputs": [
    {
     "data": {
      "text/plain": [
       "False"
      ]
     },
     "execution_count": 14,
     "metadata": {},
     "output_type": "execute_result"
    }
   ],
   "source": [
    "# Check if subset\n",
    "\n",
    "set(album_set2).issubset(album_set1)   "
   ]
  },
  {
   "cell_type": "code",
   "execution_count": 15,
   "id": "6e38eafb",
   "metadata": {},
   "outputs": [
    {
     "data": {
      "text/plain": [
       "True"
      ]
     },
     "execution_count": 15,
     "metadata": {},
     "output_type": "execute_result"
    }
   ],
   "source": [
    "# Another example to check if subset\n",
    "\n",
    "set({'Catch Without Arms'}).issubset(album_set2)"
   ]
  },
  {
   "cell_type": "code",
   "execution_count": 16,
   "id": "713d5ef8",
   "metadata": {},
   "outputs": [
    {
     "data": {
      "text/plain": [
       "True"
      ]
     },
     "execution_count": 16,
     "metadata": {},
     "output_type": "execute_result"
    }
   ],
   "source": [
    "# Another example to check if superset\n",
    "\n",
    "album_set1.issuperset({'Leitmotif', 'Catch Without Arms'})   "
   ]
  }
 ],
 "metadata": {
  "kernelspec": {
   "display_name": "Python 3 (ipykernel)",
   "language": "python",
   "name": "python3"
  },
  "language_info": {
   "codemirror_mode": {
    "name": "ipython",
    "version": 3
   },
   "file_extension": ".py",
   "mimetype": "text/x-python",
   "name": "python",
   "nbconvert_exporter": "python",
   "pygments_lexer": "ipython3",
   "version": "3.10.4"
  }
 },
 "nbformat": 4,
 "nbformat_minor": 5
}
