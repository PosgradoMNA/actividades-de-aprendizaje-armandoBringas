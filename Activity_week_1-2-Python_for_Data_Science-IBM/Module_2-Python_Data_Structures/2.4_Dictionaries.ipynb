{
 "cells": [
  {
   "cell_type": "markdown",
   "id": "907d0b7f",
   "metadata": {},
   "source": [
    "Armando Bringas Corpus (A01200230)\n",
    "TC4029 Ciencia y analítica de datos (Gpo 10)"
   ]
  },
  {
   "cell_type": "markdown",
   "id": "2b01d0f0",
   "metadata": {},
   "source": [
    "# Dictionaries"
   ]
  },
  {
   "cell_type": "code",
   "execution_count": 1,
   "id": "679b9591",
   "metadata": {},
   "outputs": [
    {
     "data": {
      "text/plain": [
       "{'Entropia': '1997',\n",
       " 'One Hour by the Concrete Lake': '1998',\n",
       " 'The Perfect Element Part I': '2000',\n",
       " 'Remedy Lane': '2001',\n",
       " 'BE': '2004',\n",
       " 'Scarsick': '2007',\n",
       " 'Road Salt One': '2010',\n",
       " 'Road Salt Two': '2011',\n",
       " 'Falling Home': '2014'}"
      ]
     },
     "execution_count": 1,
     "metadata": {},
     "output_type": "execute_result"
    }
   ],
   "source": [
    "# Create a dictionary\n",
    "pain_of_salvation_albums = {\"Entropia\": \"1997\", \"One Hour by the Concrete Lake\": \"1998\", \\\n",
    "                    \"The Perfect Element Part I\": \"2000\", \"Remedy Lane\": \"2001\", \\\n",
    "                    \"BE\": \"2004\", \"Scarsick\": \"2007\", \"Road Salt One\": \"2010\", \\\n",
    "                    \"Road Salt Two\": \"2011\", \"Falling Home\": \"2014\"}\n",
    "pain_of_salvation_albums"
   ]
  },
  {
   "cell_type": "code",
   "execution_count": 2,
   "id": "58557565",
   "metadata": {},
   "outputs": [
    {
     "data": {
      "text/plain": [
       "'1997'"
      ]
     },
     "execution_count": 2,
     "metadata": {},
     "output_type": "execute_result"
    }
   ],
   "source": [
    "# Access to the value by key\n",
    "\n",
    "pain_of_salvation_albums[\"Entropia\"]"
   ]
  },
  {
   "cell_type": "code",
   "execution_count": 3,
   "id": "354565f5",
   "metadata": {},
   "outputs": [
    {
     "data": {
      "text/plain": [
       "dict_keys(['Entropia', 'One Hour by the Concrete Lake', 'The Perfect Element Part I', 'Remedy Lane', 'BE', 'Scarsick', 'Road Salt One', 'Road Salt Two', 'Falling Home'])"
      ]
     },
     "execution_count": 3,
     "metadata": {},
     "output_type": "execute_result"
    }
   ],
   "source": [
    "# All keys of dictionary\n",
    "\n",
    "pain_of_salvation_albums.keys()"
   ]
  },
  {
   "cell_type": "code",
   "execution_count": 4,
   "id": "d138f709",
   "metadata": {},
   "outputs": [
    {
     "data": {
      "text/plain": [
       "dict_values(['1997', '1998', '2000', '2001', '2004', '2007', '2010', '2011', '2014'])"
      ]
     },
     "execution_count": 4,
     "metadata": {},
     "output_type": "execute_result"
    }
   ],
   "source": [
    "# All values of dictionary\n",
    "\n",
    "pain_of_salvation_albums.values()"
   ]
  },
  {
   "cell_type": "code",
   "execution_count": 5,
   "id": "ea058b76",
   "metadata": {},
   "outputs": [
    {
     "data": {
      "text/plain": [
       "{'Entropia': '1997',\n",
       " 'One Hour by the Concrete Lake': '1998',\n",
       " 'The Perfect Element Part I': '2000',\n",
       " 'Remedy Lane': '2001',\n",
       " 'BE': '2004',\n",
       " 'Scarsick': '2007',\n",
       " 'Road Salt One': '2010',\n",
       " 'Road Salt Two': '2011',\n",
       " 'Falling Home': '2014',\n",
       " 'In the Passing Light of Day': '2017'}"
      ]
     },
     "execution_count": 5,
     "metadata": {},
     "output_type": "execute_result"
    }
   ],
   "source": [
    "# Append a new key with its value\n",
    "\n",
    "pain_of_salvation_albums['In the Passing Light of Day'] = '2017'\n",
    "pain_of_salvation_albums"
   ]
  },
  {
   "cell_type": "code",
   "execution_count": 6,
   "id": "9c8e6702",
   "metadata": {},
   "outputs": [
    {
     "data": {
      "text/plain": [
       "{'One Hour by the Concrete Lake': '1998',\n",
       " 'The Perfect Element Part I': '2000',\n",
       " 'Remedy Lane': '2001',\n",
       " 'Scarsick': '2007',\n",
       " 'Road Salt One': '2010',\n",
       " 'Road Salt Two': '2011',\n",
       " 'Falling Home': '2014',\n",
       " 'In the Passing Light of Day': '2017'}"
      ]
     },
     "execution_count": 6,
     "metadata": {},
     "output_type": "execute_result"
    }
   ],
   "source": [
    "# Delete entries by key\n",
    "\n",
    "del(pain_of_salvation_albums['Entropia'])\n",
    "del(pain_of_salvation_albums['BE'])\n",
    "pain_of_salvation_albums"
   ]
  },
  {
   "cell_type": "code",
   "execution_count": 7,
   "id": "520c5443",
   "metadata": {},
   "outputs": [
    {
     "data": {
      "text/plain": [
       "True"
      ]
     },
     "execution_count": 7,
     "metadata": {},
     "output_type": "execute_result"
    }
   ],
   "source": [
    "# Verify a key is in the dictionary\n",
    "\n",
    "'Remedy Lane' in pain_of_salvation_albums"
   ]
  }
 ],
 "metadata": {
  "kernelspec": {
   "display_name": "Python 3 (ipykernel)",
   "language": "python",
   "name": "python3"
  },
  "language_info": {
   "codemirror_mode": {
    "name": "ipython",
    "version": 3
   },
   "file_extension": ".py",
   "mimetype": "text/x-python",
   "name": "python",
   "nbconvert_exporter": "python",
   "pygments_lexer": "ipython3",
   "version": "3.10.4"
  }
 },
 "nbformat": 4,
 "nbformat_minor": 5
}
