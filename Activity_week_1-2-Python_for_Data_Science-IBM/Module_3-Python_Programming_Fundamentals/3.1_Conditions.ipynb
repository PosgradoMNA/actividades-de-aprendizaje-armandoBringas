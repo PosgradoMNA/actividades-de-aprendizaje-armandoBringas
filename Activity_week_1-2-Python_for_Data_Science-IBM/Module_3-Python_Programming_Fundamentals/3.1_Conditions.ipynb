{
 "cells": [
  {
   "cell_type": "markdown",
   "id": "907d0b7f",
   "metadata": {},
   "source": [
    "Armando Bringas Corpus (A01200230)\n",
    "TC4029 Ciencia y analítica de datos (Gpo 10)"
   ]
  },
  {
   "cell_type": "markdown",
   "id": "2b01d0f0",
   "metadata": {},
   "source": [
    "# Conditions"
   ]
  },
  {
   "cell_type": "markdown",
   "id": "b4ca4bde",
   "metadata": {},
   "source": [
    "## Comparison Operators"
   ]
  },
  {
   "cell_type": "code",
   "execution_count": 1,
   "id": "b8f0453f",
   "metadata": {},
   "outputs": [
    {
     "data": {
      "text/plain": [
       "False"
      ]
     },
     "execution_count": 1,
     "metadata": {},
     "output_type": "execute_result"
    }
   ],
   "source": [
    "# Equal Condition\n",
    "a = 10\n",
    "a == 20"
   ]
  },
  {
   "cell_type": "code",
   "execution_count": 2,
   "id": "7683008e",
   "metadata": {},
   "outputs": [
    {
     "data": {
      "text/plain": [
       "True"
      ]
     },
     "execution_count": 2,
     "metadata": {},
     "output_type": "execute_result"
    }
   ],
   "source": [
    "# Greater than\n",
    "i = 30\n",
    "i > a"
   ]
  },
  {
   "cell_type": "code",
   "execution_count": 3,
   "id": "561936a2",
   "metadata": {},
   "outputs": [
    {
     "data": {
      "text/plain": [
       "True"
      ]
     },
     "execution_count": 3,
     "metadata": {},
     "output_type": "execute_result"
    }
   ],
   "source": [
    "# Inequality sign\n",
    "i = 0\n",
    "i != 1"
   ]
  },
  {
   "cell_type": "code",
   "execution_count": 4,
   "id": "10137a31",
   "metadata": {},
   "outputs": [
    {
     "data": {
      "text/plain": [
       "False"
      ]
     },
     "execution_count": 4,
     "metadata": {},
     "output_type": "execute_result"
    }
   ],
   "source": [
    "# Comparing Strings\n",
    "\"Elvis Presley\" == \"Pelvis Eisley\""
   ]
  },
  {
   "cell_type": "code",
   "execution_count": 5,
   "id": "5a2d56d2",
   "metadata": {},
   "outputs": [
    {
     "data": {
      "text/plain": [
       "True"
      ]
     },
     "execution_count": 5,
     "metadata": {},
     "output_type": "execute_result"
    }
   ],
   "source": [
    "# Inequalityu for string comparison\n",
    "\"Elvis Presley\" != \"Pelvis Eisley\""
   ]
  },
  {
   "cell_type": "code",
   "execution_count": 6,
   "id": "7a934144",
   "metadata": {},
   "outputs": [
    {
     "data": {
      "text/plain": [
       "True"
      ]
     },
     "execution_count": 6,
     "metadata": {},
     "output_type": "execute_result"
    }
   ],
   "source": [
    "# Characters comparison\n",
    "'Z' > 'G'"
   ]
  },
  {
   "cell_type": "markdown",
   "id": "049ce785",
   "metadata": {},
   "source": [
    "## Branching"
   ]
  },
  {
   "cell_type": "code",
   "execution_count": 7,
   "id": "7e1b6ee4",
   "metadata": {},
   "outputs": [
    {
     "name": "stdout",
     "output_type": "stream",
     "text": [
      "Go to see Children of Bodom\n",
      "please move on\n"
     ]
    }
   ],
   "source": [
    "# If statement\n",
    "\n",
    "your_age = 19\n",
    "\n",
    "if your_age > 18:\n",
    "    print(\"Go to see Children of Bodom\")\n",
    "\n",
    "print(\"please move on\")"
   ]
  },
  {
   "cell_type": "code",
   "execution_count": 8,
   "id": "3ae7a453",
   "metadata": {},
   "outputs": [
    {
     "name": "stdout",
     "output_type": "stream",
     "text": [
      "Go to see OV7\n",
      "please move on\n"
     ]
    }
   ],
   "source": [
    "# Else statement\n",
    "\n",
    "your_age = 12\n",
    "\n",
    "if your_age > 18:\n",
    "    print(\"Go to see Children of Bodom\")\n",
    "else:\n",
    "    print(\"Go to see OV7\")\n",
    "\n",
    "print(\"please move on\")"
   ]
  },
  {
   "cell_type": "code",
   "execution_count": 9,
   "id": "d9fe6728",
   "metadata": {},
   "outputs": [
    {
     "name": "stdout",
     "output_type": "stream",
     "text": [
      "mmm... Come in to see Children of Bodom\n",
      "please move on\n"
     ]
    }
   ],
   "source": [
    "# Elif statement\n",
    "\n",
    "your_age = 18\n",
    "\n",
    "if your_age > 18:\n",
    "    print(\"Go to see Children of Bodom\")\n",
    "elif your_age == 18:\n",
    "    print(\"mmm... Come in to see Children of Bodom\")\n",
    "else:\n",
    "    print(\"Go to see OV7\")\n",
    "\n",
    "print(\"please move on\")"
   ]
  },
  {
   "cell_type": "markdown",
   "id": "ca745cd8",
   "metadata": {},
   "source": [
    "## Logical Operators"
   ]
  },
  {
   "cell_type": "code",
   "execution_count": 10,
   "id": "6bd8e96d",
   "metadata": {},
   "outputs": [
    {
     "name": "stdout",
     "output_type": "stream",
     "text": [
      "You are a baby boomer\n"
     ]
    }
   ],
   "source": [
    "# Condition statement example\n",
    "\n",
    "year_of_birth = 1957\n",
    "\n",
    "if (year_of_birth > 1945) and (year_of_birth < 1965):\n",
    "    print(\"You are a baby boomer\")"
   ]
  },
  {
   "cell_type": "code",
   "execution_count": 11,
   "id": "7b01dd59",
   "metadata": {},
   "outputs": [
    {
     "name": "stdout",
     "output_type": "stream",
     "text": [
      "Album was not made in the 1970's\n"
     ]
    }
   ],
   "source": [
    "# Condition statement example\n",
    "\n",
    "album_year = 1980\n",
    "\n",
    "if(album_year < 1970) or (album_year > 1979):\n",
    "    print (\"Album was not made in the 1970's\")\n",
    "else:\n",
    "    print(\"The Album was made in the 1970's \")"
   ]
  },
  {
   "cell_type": "code",
   "execution_count": 12,
   "id": "53f94ca6",
   "metadata": {},
   "outputs": [
    {
     "name": "stdout",
     "output_type": "stream",
     "text": [
      "She loves you yeah, yeah, yeah!\n"
     ]
    }
   ],
   "source": [
    "she_loves_you = True\n",
    "\n",
    "if not (she_loves_you == False):\n",
    "    print(\"She loves you yeah, yeah, yeah!\")"
   ]
  }
 ],
 "metadata": {
  "kernelspec": {
   "display_name": "Python 3 (ipykernel)",
   "language": "python",
   "name": "python3"
  },
  "language_info": {
   "codemirror_mode": {
    "name": "ipython",
    "version": 3
   },
   "file_extension": ".py",
   "mimetype": "text/x-python",
   "name": "python",
   "nbconvert_exporter": "python",
   "pygments_lexer": "ipython3",
   "version": "3.10.4"
  }
 },
 "nbformat": 4,
 "nbformat_minor": 5
}
