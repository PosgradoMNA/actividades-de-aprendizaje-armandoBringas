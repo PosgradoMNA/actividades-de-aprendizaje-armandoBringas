{
 "cells": [
  {
   "cell_type": "markdown",
   "id": "907d0b7f",
   "metadata": {},
   "source": [
    "Armando Bringas Corpus (A01200230)\n",
    "TC4029 Ciencia y analítica de datos (Gpo 10)"
   ]
  },
  {
   "cell_type": "markdown",
   "id": "2b01d0f0",
   "metadata": {},
   "source": [
    "# Loops"
   ]
  },
  {
   "cell_type": "markdown",
   "id": "66058e08",
   "metadata": {},
   "source": [
    "## Range"
   ]
  },
  {
   "cell_type": "code",
   "execution_count": 12,
   "id": "feb98311",
   "metadata": {},
   "outputs": [
    {
     "data": {
      "text/plain": [
       "range(0, 10)"
      ]
     },
     "execution_count": 12,
     "metadata": {},
     "output_type": "execute_result"
    }
   ],
   "source": [
    "# Range example\n",
    "\n",
    "range(10)"
   ]
  },
  {
   "cell_type": "markdown",
   "id": "b2df02cd",
   "metadata": {},
   "source": [
    "## for loop"
   ]
  },
  {
   "cell_type": "code",
   "execution_count": 6,
   "id": "c201d847",
   "metadata": {},
   "outputs": [
    {
     "name": "stdout",
     "output_type": "stream",
     "text": [
      "Ford\n",
      "Nissan\n",
      "Chevrolet\n",
      "VW\n",
      "Renault\n"
     ]
    }
   ],
   "source": [
    "# For loop through a list\n",
    "\n",
    "car_makers = ['Ford', 'Nissan', 'Chevrolet', 'VW', 'Renault']\n",
    "n = len(car_makers)\n",
    "\n",
    "for i in range(n):\n",
    "    print(car_makers[i])"
   ]
  },
  {
   "cell_type": "code",
   "execution_count": 8,
   "id": "d1ac4011",
   "metadata": {},
   "outputs": [
    {
     "name": "stdout",
     "output_type": "stream",
     "text": [
      "0\n",
      "1\n",
      "2\n",
      "3\n",
      "4\n",
      "5\n",
      "6\n",
      "7\n",
      "8\n",
      "9\n"
     ]
    }
   ],
   "source": [
    "# For loop through a range\n",
    "\n",
    "for i in range(0, 10):\n",
    "    print(i)"
   ]
  },
  {
   "cell_type": "code",
   "execution_count": 10,
   "id": "2cee46ac",
   "metadata": {},
   "outputs": [
    {
     "name": "stdout",
     "output_type": "stream",
     "text": [
      "0 Ford\n",
      "1 Nissan\n",
      "2 Chevrolet\n",
      "3 VW\n",
      "4 Renault\n"
     ]
    }
   ],
   "source": [
    "# Loop through the elements of the list and iterate by index and element\n",
    "\n",
    "for i, car_maker in enumerate(car_makers):\n",
    "    print(i, car_maker)"
   ]
  },
  {
   "cell_type": "markdown",
   "id": "a2526e0d",
   "metadata": {},
   "source": [
    "## while loop"
   ]
  },
  {
   "cell_type": "code",
   "execution_count": 13,
   "id": "2803037e",
   "metadata": {},
   "outputs": [
    {
     "name": "stdout",
     "output_type": "stream",
     "text": [
      "0\n",
      "1\n",
      "2\n",
      "3\n",
      "4\n",
      "5\n",
      "6\n",
      "7\n",
      "8\n",
      "9\n"
     ]
    }
   ],
   "source": [
    "# While loop example\n",
    "\n",
    "i = 0\n",
    "while (i != 10):\n",
    "    print(i)\n",
    "    i += 1\n",
    "    "
   ]
  }
 ],
 "metadata": {
  "kernelspec": {
   "display_name": "Python 3 (ipykernel)",
   "language": "python",
   "name": "python3"
  },
  "language_info": {
   "codemirror_mode": {
    "name": "ipython",
    "version": 3
   },
   "file_extension": ".py",
   "mimetype": "text/x-python",
   "name": "python",
   "nbconvert_exporter": "python",
   "pygments_lexer": "ipython3",
   "version": "3.10.4"
  }
 },
 "nbformat": 4,
 "nbformat_minor": 5
}
