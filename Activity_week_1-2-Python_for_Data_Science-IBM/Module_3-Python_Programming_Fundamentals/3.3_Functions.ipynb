{
 "cells": [
  {
   "cell_type": "markdown",
   "id": "907d0b7f",
   "metadata": {},
   "source": [
    "Armando Bringas Corpus (A01200230)\n",
    "TC4029 Ciencia y analítica de datos (Gpo 10)"
   ]
  },
  {
   "cell_type": "markdown",
   "id": "2b01d0f0",
   "metadata": {},
   "source": [
    "# Functions"
   ]
  },
  {
   "cell_type": "code",
   "execution_count": 1,
   "id": "2a260f15",
   "metadata": {},
   "outputs": [],
   "source": [
    "# Example define a functioin to square a number\n",
    "\n",
    "def square(a):\n",
    "    \"\"\"\n",
    "    Get the square of the input variable\n",
    "    \"\"\"\n",
    "    b = a*a\n",
    "    print(\"square of \", a, \" is \", b)\n",
    "    return(b)"
   ]
  },
  {
   "cell_type": "code",
   "execution_count": 2,
   "id": "a783502a",
   "metadata": {},
   "outputs": [
    {
     "name": "stdout",
     "output_type": "stream",
     "text": [
      "Help on function square in module __main__:\n",
      "\n",
      "square(a)\n",
      "    Get the square of the input variable\n",
      "\n"
     ]
    }
   ],
   "source": [
    "# Get help of the function\n",
    "help(square)"
   ]
  },
  {
   "cell_type": "code",
   "execution_count": 3,
   "id": "fa9c258d",
   "metadata": {},
   "outputs": [
    {
     "name": "stdout",
     "output_type": "stream",
     "text": [
      "square of  5  is  25\n"
     ]
    },
    {
     "data": {
      "text/plain": [
       "25"
      ]
     },
     "execution_count": 3,
     "metadata": {},
     "output_type": "execute_result"
    }
   ],
   "source": [
    "# Call the function\n",
    "square(5)"
   ]
  },
  {
   "cell_type": "code",
   "execution_count": 4,
   "id": "a0c0f8f7",
   "metadata": {},
   "outputs": [
    {
     "name": "stdout",
     "output_type": "stream",
     "text": [
      "50.0\n"
     ]
    }
   ],
   "source": [
    "# multiple parameters function\n",
    "\n",
    "def triangle_area(base, height):\n",
    "    \"\"\"\n",
    "    Get the area of the triangle\n",
    "    \"\"\"\n",
    "    return((1 / 2) * base * height)\n",
    "\n",
    "print(triangle_area(5, 20))"
   ]
  },
  {
   "cell_type": "markdown",
   "id": "9d7a17e1",
   "metadata": {},
   "source": [
    "## Variables"
   ]
  },
  {
   "cell_type": "markdown",
   "id": "aab558ff",
   "metadata": {},
   "source": [
    "### Scope of a variable, Global and Local variables"
   ]
  },
  {
   "cell_type": "code",
   "execution_count": 5,
   "id": "793f48ca",
   "metadata": {},
   "outputs": [
    {
     "name": "stdout",
     "output_type": "stream",
     "text": [
      "Sphere volume of radius of  5  is \n"
     ]
    },
    {
     "data": {
      "text/plain": [
       "523.5999999999999"
      ]
     },
     "execution_count": 5,
     "metadata": {},
     "output_type": "execute_result"
    }
   ],
   "source": [
    "# Global variable\n",
    "pi = 3.1416\n",
    "\n",
    "def sphere_volume(radius):\n",
    "    \n",
    "    # Local variable\n",
    "    sphere_volume = (4 / 3) * pi * (radius ** 3)\n",
    "    print(\"Sphere volume of radius of \", radius, \" is \")\n",
    "    return(sphere_volume)\n",
    "\n",
    "sphere_volume(5)"
   ]
  },
  {
   "cell_type": "markdown",
   "id": "07219671",
   "metadata": {},
   "source": [
    "### Default argument values"
   ]
  },
  {
   "cell_type": "code",
   "execution_count": 6,
   "id": "5c21e22e",
   "metadata": {},
   "outputs": [
    {
     "name": "stdout",
     "output_type": "stream",
     "text": [
      "is a lame game, it has a rating of  5\n",
      "is a good game, they improved with the patches, it has a rating of  8.5\n"
     ]
    }
   ],
   "source": [
    "def cyberPunk2077isAGoodGame(rating=5):\n",
    "    if(rating < 8):\n",
    "        print(\"is a lame game, it has a rating of \", rating)\n",
    "    else:\n",
    "        print(\"is a good game, they improved with the patches, it has a rating of \", rating)\n",
    "\n",
    "cyberPunk2077isAGoodGame()\n",
    "cyberPunk2077isAGoodGame(8.5)"
   ]
  },
  {
   "cell_type": "markdown",
   "id": "38805f31",
   "metadata": {},
   "source": [
    "## Pre-defined functions (Built-in)"
   ]
  },
  {
   "cell_type": "code",
   "execution_count": 7,
   "id": "aeef408c",
   "metadata": {},
   "outputs": [
    {
     "data": {
      "text/plain": [
       "44.0"
      ]
     },
     "execution_count": 7,
     "metadata": {},
     "output_type": "execute_result"
    }
   ],
   "source": [
    "# sum() to add every element of the list\n",
    "\n",
    "scores = [8.0, 9.5, 10.0, 7.5, 9.0]\n",
    "sum(scores)"
   ]
  },
  {
   "cell_type": "code",
   "execution_count": 8,
   "id": "8dcd87db",
   "metadata": {},
   "outputs": [
    {
     "data": {
      "text/plain": [
       "5"
      ]
     },
     "execution_count": 8,
     "metadata": {},
     "output_type": "execute_result"
    }
   ],
   "source": [
    "# len() to get the length of the list\n",
    "\n",
    "len(scores)"
   ]
  },
  {
   "cell_type": "markdown",
   "id": "73f1a698",
   "metadata": {},
   "source": [
    "## Collections and Functions"
   ]
  },
  {
   "cell_type": "code",
   "execution_count": 9,
   "id": "bc5d1d89",
   "metadata": {},
   "outputs": [
    {
     "name": "stdout",
     "output_type": "stream",
     "text": [
      "Number of elements:  5\n",
      "A\n",
      "Horse\n",
      "With\n",
      "No\n",
      "Name\n"
     ]
    }
   ],
   "source": [
    "# If number of arguments unknown can be packed into a tuple\n",
    "\n",
    "def print_all_elements(*collection):\n",
    "    print(\"Number of elements: \", len(collection))\n",
    "    for element in collection:\n",
    "        print(element)\n",
    "\n",
    "print_all_elements('A', 'Horse', 'With', 'No', 'Name')"
   ]
  },
  {
   "cell_type": "code",
   "execution_count": 10,
   "id": "4793dfed",
   "metadata": {},
   "outputs": [
    {
     "name": "stdout",
     "output_type": "stream",
     "text": [
      "First_name : Elvis\n",
      "Las_name : Presley\n",
      "I_D : E.P\n"
     ]
    }
   ],
   "source": [
    "# Or packed as a dictionary\n",
    "\n",
    "def printDictionary(**args):\n",
    "    for key in args:\n",
    "        print(key + \" : \" + args[key])\n",
    "\n",
    "printDictionary(First_name='Elvis',Las_name='Presley',I_D='E.P')"
   ]
  }
 ],
 "metadata": {
  "kernelspec": {
   "display_name": "Python 3 (ipykernel)",
   "language": "python",
   "name": "python3"
  },
  "language_info": {
   "codemirror_mode": {
    "name": "ipython",
    "version": 3
   },
   "file_extension": ".py",
   "mimetype": "text/x-python",
   "name": "python",
   "nbconvert_exporter": "python",
   "pygments_lexer": "ipython3",
   "version": "3.10.4"
  }
 },
 "nbformat": 4,
 "nbformat_minor": 5
}
