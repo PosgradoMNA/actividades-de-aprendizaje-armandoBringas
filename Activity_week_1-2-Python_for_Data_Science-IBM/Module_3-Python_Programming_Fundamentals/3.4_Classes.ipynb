{
 "cells": [
  {
   "cell_type": "markdown",
   "id": "907d0b7f",
   "metadata": {},
   "source": [
    "Armando Bringas Corpus (A01200230)\n",
    "TC4029 Ciencia y analítica de datos (Gpo 10)"
   ]
  },
  {
   "cell_type": "markdown",
   "id": "2b01d0f0",
   "metadata": {},
   "source": [
    "# Classes"
   ]
  },
  {
   "cell_type": "code",
   "execution_count": 1,
   "id": "bfc13fbd",
   "metadata": {},
   "outputs": [],
   "source": [
    "# Import matplotlib library\n",
    "\n",
    "import matplotlib.pyplot as plt\n",
    "%matplotlib inline"
   ]
  },
  {
   "cell_type": "code",
   "execution_count": 2,
   "id": "aaee902a",
   "metadata": {},
   "outputs": [],
   "source": [
    "# Create a circle class\n",
    "\n",
    "class aPerfectCircle(object):\n",
    "    \n",
    "    # Constructor\n",
    "    def __init__(self, radius=3.1416, color='blue'):\n",
    "        self.radius = radius\n",
    "        self.color = color\n",
    "        \n",
    "    # Method\n",
    "    def increase_size(self, factor):\n",
    "        self.radius = self.radius + factor\n",
    "        return(self.radius)\n",
    "    \n",
    "    # Method\n",
    "    def drawCircle(self):\n",
    "        plt.gca().add_patch(plt.Circle((0, 0), radius=self.radius, fc=self.color))\n",
    "        plt.axis('scaled')\n",
    "        plt.show()  "
   ]
  },
  {
   "cell_type": "markdown",
   "id": "28ca4da4",
   "metadata": {},
   "source": [
    "## Creating an instance of the class aPerfectCircle"
   ]
  },
  {
   "cell_type": "code",
   "execution_count": 3,
   "id": "3e6067eb",
   "metadata": {},
   "outputs": [],
   "source": [
    "# Create the object \n",
    "\n",
    "my_circle = aPerfectCircle(color='green')"
   ]
  },
  {
   "cell_type": "code",
   "execution_count": 4,
   "id": "ad576ff6",
   "metadata": {},
   "outputs": [
    {
     "data": {
      "text/plain": [
       "['__class__',\n",
       " '__delattr__',\n",
       " '__dict__',\n",
       " '__dir__',\n",
       " '__doc__',\n",
       " '__eq__',\n",
       " '__format__',\n",
       " '__ge__',\n",
       " '__getattribute__',\n",
       " '__gt__',\n",
       " '__hash__',\n",
       " '__init__',\n",
       " '__init_subclass__',\n",
       " '__le__',\n",
       " '__lt__',\n",
       " '__module__',\n",
       " '__ne__',\n",
       " '__new__',\n",
       " '__reduce__',\n",
       " '__reduce_ex__',\n",
       " '__repr__',\n",
       " '__setattr__',\n",
       " '__sizeof__',\n",
       " '__str__',\n",
       " '__subclasshook__',\n",
       " '__weakref__',\n",
       " 'drawCircle',\n",
       " 'increase_size']"
      ]
     },
     "execution_count": 4,
     "metadata": {},
     "output_type": "execute_result"
    }
   ],
   "source": [
    "# List the available methods\n",
    "dir(aPerfectCircle)"
   ]
  },
  {
   "cell_type": "code",
   "execution_count": 5,
   "id": "bf2a4851",
   "metadata": {},
   "outputs": [
    {
     "data": {
      "text/plain": [
       "3.1416"
      ]
     },
     "execution_count": 5,
     "metadata": {},
     "output_type": "execute_result"
    }
   ],
   "source": [
    "# Print circle radius\n",
    "\n",
    "my_circle.radius"
   ]
  },
  {
   "cell_type": "code",
   "execution_count": 6,
   "id": "717afa1b",
   "metadata": {},
   "outputs": [
    {
     "data": {
      "text/plain": [
       "'green'"
      ]
     },
     "execution_count": 6,
     "metadata": {},
     "output_type": "execute_result"
    }
   ],
   "source": [
    "# Print circle color\n",
    "\n",
    "my_circle.color"
   ]
  },
  {
   "cell_type": "code",
   "execution_count": 7,
   "id": "e3ebf7c4",
   "metadata": {},
   "outputs": [
    {
     "data": {
      "text/plain": [
       "5"
      ]
     },
     "execution_count": 7,
     "metadata": {},
     "output_type": "execute_result"
    }
   ],
   "source": [
    "# Use method to modify object\n",
    "\n",
    "my_circle.radius = 5\n",
    "my_circle.radius"
   ]
  },
  {
   "cell_type": "code",
   "execution_count": 8,
   "id": "e1b1e7fe",
   "metadata": {},
   "outputs": [
    {
     "data": {
      "image/png": "[encoded data removed]",
      "text/plain": [
       "<Figure size 432x288 with 1 Axes>"
      ]
     },
     "metadata": {
      "needs_background": "light"
     },
     "output_type": "display_data"
    }
   ],
   "source": [
    "my_circle.drawCircle()"
   ]
  },
  {
   "cell_type": "code",
   "execution_count": 9,
   "id": "7095f12f",
   "metadata": {},
   "outputs": [
    {
     "data": {
      "text/plain": [
       "10"
      ]
     },
     "execution_count": 9,
     "metadata": {},
     "output_type": "execute_result"
    }
   ],
   "source": [
    "# Modify the radius\n",
    "my_circle.increase_size(5)"
   ]
  },
  {
   "cell_type": "code",
   "execution_count": 12,
   "id": "b37c77f2",
   "metadata": {},
   "outputs": [],
   "source": [
    "# Create circle with given parameters\n",
    "blue_circle = aPerfectCircle(20, 'blue')"
   ]
  },
  {
   "cell_type": "code",
   "execution_count": 13,
   "id": "15ef6630",
   "metadata": {},
   "outputs": [
    {
     "data": {
      "image/png": "[encoded data removed]",
      "text/plain": [
       "<Figure size 432x288 with 1 Axes>"
      ]
     },
     "metadata": {
      "needs_background": "light"
     },
     "output_type": "display_data"
    }
   ],
   "source": [
    "blue_circle.drawCircle()"
   ]
  },
  {
   "cell_type": "code",
   "execution_count": null,
   "id": "3bc2083a",
   "metadata": {},
   "outputs": [],
   "source": []
  }
 ],
 "metadata": {
  "kernelspec": {
   "display_name": "Python 3 (ipykernel)",
   "language": "python",
   "name": "python3"
  },
  "language_info": {
   "codemirror_mode": {
    "name": "ipython",
    "version": 3
   },
   "file_extension": ".py",
   "mimetype": "text/x-python",
   "name": "python",
   "nbconvert_exporter": "python",
   "pygments_lexer": "ipython3",
   "version": "3.10.4"
  }
 },
 "nbformat": 4,
 "nbformat_minor": 5
}
